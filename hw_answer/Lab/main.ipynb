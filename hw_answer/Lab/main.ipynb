{
 "cells": [
  {
   "cell_type": "code",
   "execution_count": 22,
   "metadata": {},
   "outputs": [],
   "source": [
    "import numpy as np\n",
    "import matplotlib.pyplot as plt\n",
    "import cv2\n",
    "import os"
   ]
  },
  {
   "cell_type": "code",
   "execution_count": 23,
   "metadata": {},
   "outputs": [],
   "source": [
    "def metropolis_step(N, grid, J, beta=1.0):\n",
    "    i, j = np.random.randint(0, N, 2)\n",
    "    current_angle = grid[i, j]\n",
    "    new_angle = 2*np.pi*np.random.rand()\n",
    "\n",
    "    # Calculate energy change\n",
    "    delta_E = 0\n",
    "    delta_E -= J[i,j,0]*np.cos(new_angle-grid[(i + 1) % N, j])-np.cos(current_angle-grid[(i + 1) % N, j])\n",
    "    delta_E -= J[i-1,j,0]*np.cos(new_angle-grid[(i - 1) % N, j])-np.cos(current_angle-grid[(i - 1) % N, j])\n",
    "    delta_E -= J[i,j,1]*np.cos(new_angle-grid[i, (j + 1) % N])-np.cos(current_angle-grid[i, (j + 1) % N])\n",
    "    delta_E -= J[i-1,j,1]*np.cos(new_angle-grid[i, (j - 1) % N])-np.cos(current_angle-grid[i, (j - 1) % N])\n",
    "\n",
    "    # Metropolis criterion\n",
    "    if delta_E < 0 or np.random.rand() < np.exp(-delta_E*beta):\n",
    "        grid[i, j] = new_angle\n",
    "\n",
    "    return grid\n"
   ]
  },
  {
   "cell_type": "code",
   "execution_count": 24,
   "metadata": {},
   "outputs": [],
   "source": [
    "def plot_grid_orientations(grid, step, beta, filename_pattern):\n",
    "    N = grid.shape[0]\n",
    "    X, Y = np.meshgrid(range(N), range(N))\n",
    "    U = np.cos(grid)\n",
    "    V = np.sin(grid)\n",
    "\n",
    "    plt.figure(figsize=(8, 8))\n",
    "    plt.quiver(X, Y, U, V, pivot='middle')\n",
    "    plt.title(f\"Temperature {1/beta} Step {step}\")\n",
    "    plt.savefig(filename_pattern.format(beta, step))  # Save the plot as an image\n",
    "    plt.close()  # Close the plot to free memory"
   ]
  },
  {
   "cell_type": "code",
   "execution_count": 39,
   "metadata": {},
   "outputs": [],
   "source": [
    "# Modify your simulation loop to save images\n",
    "image_folder = 'simulation_frames'\n",
    "os.makedirs(image_folder, exist_ok=True)\n",
    "filename_pattern = os.path.join(image_folder, 'frame_{:02f}_{:04d}.png')"
   ]
  },
  {
   "cell_type": "code",
   "execution_count": 40,
   "metadata": {},
   "outputs": [],
   "source": [
    "n = 5 #num of different J\n",
    "N = 64  # Grid size\n",
    "steps = 5000  # Number of simulation steps\n",
    "m = 100 #num of thermalization\n",
    "betas = [0.01, 0.1, 1, 10, 100, 1000]\n",
    "history = np.zeros((n, len(betas), steps+1, N, N), dtype='float32')\n",
    "ods = np.zeros((n,len(betas), steps-m))\n",
    "some_interval = 100\n",
    "\n",
    "\n",
    "\n",
    "for k in range(n):\n",
    "    #Initialize spin orientation.\n",
    "    grid = 2*np.pi*np.random.rand(N, N)\n",
    "    \n",
    "    #Initialize spin-spin interaction coefficient.\n",
    "    random_array = np.random.rand(N, N, 2)\n",
    "    J = np.where(random_array < 0.5, -1, 1)\n",
    "\n",
    "    for l in range(len(betas)):\n",
    "        beta = betas[l]\n",
    "        for h in range(steps):\n",
    "            grid = metropolis_step(N, grid, J, beta)\n",
    "            history[k, l, h, ...] = grid\n",
    "            if h>m-1:\n",
    "                ods[k,l,h-m] = np.mean(np.cos(grid))\n",
    "\n",
    "            # Plotting at selected steps\n",
    "            if h % some_interval == 0 and k == 0:  # 'some_interval' is the frequency of steps at which you want to plot\n",
    "                plot_grid_orientations(grid, h, beta, filename_pattern)\n",
    "\n",
    "    if k==0:\n",
    "        break\n"
   ]
  },
  {
   "cell_type": "code",
   "execution_count": 36,
   "metadata": {},
   "outputs": [],
   "source": [
    "# After simulation, create a video\n",
    "video_name = 'simulation_video.mp4'\n",
    "images = [img for img in os.listdir(image_folder) if img.endswith(\".png\")]\n",
    "frame = cv2.imread(os.path.join(image_folder, images[0]))\n",
    "height, width, layers = frame.shape\n",
    "video = cv2.VideoWriter(video_name, cv2.VideoWriter_fourcc(*'mp4v'), 24, (width, height))\n",
    "\n",
    "for image in sorted(images):\n",
    "    video.write(cv2.imread(os.path.join(image_folder, image)))\n",
    "\n",
    "cv2.destroyAllWindows()\n",
    "video.release()"
   ]
  },
  {
   "cell_type": "code",
   "execution_count": 42,
   "metadata": {},
   "outputs": [
    {
     "data": {
      "image/png": "[encoded data removed]",
      "text/plain": [
       "<Figure size 640x480 with 1 Axes>"
      ]
     },
     "metadata": {},
     "output_type": "display_data"
    }
   ],
   "source": [
    "odt = np.mean(ods, axis=2)**2\n",
    "odt = np.mean(odt, axis=0)\n",
    "# Plotting the results\n",
    "#plt.figure(figsize=(10, 6))\n",
    "temperatures = [1/t for t in betas]\n",
    "plt.scatter(temperatures, odt)\n",
    "plt.xscale('log')\n",
    "plt.xlabel('Temperature')\n",
    "plt.ylabel('Order parameter')\n",
    "plt.title('Transistion')\n",
    "plt.grid(True)\n",
    "plt.show()"
   ]
  },
  {
   "cell_type": "code",
   "execution_count": 48,
   "metadata": {},
   "outputs": [
    {
     "ename": "KeyboardInterrupt",
     "evalue": "",
     "output_type": "error",
     "traceback": [
      "\u001b[1;31m---------------------------------------------------------------------------\u001b[0m",
      "\u001b[1;31mKeyboardInterrupt\u001b[0m                         Traceback (most recent call last)",
      "\u001b[1;32md:\\OneDrive - USTC\\2023 Fall\\Computational Physics A USTC 2023\\hw_answer\\Lab\\main.ipynb Cell 8\u001b[0m line \u001b[0;36m2\n\u001b[0;32m     <a href='vscode-notebook-cell:/d%3A/OneDrive%20-%20USTC/2023%20Fall/Computational%20Physics%20A%20USTC%202023/hw_answer/Lab/main.ipynb#X14sZmlsZQ%3D%3D?line=25'>26</a>\u001b[0m \u001b[39mfor\u001b[39;00m j \u001b[39min\u001b[39;00m \u001b[39mrange\u001b[39m(\u001b[39mlen\u001b[39m(betas)):\n\u001b[0;32m     <a href='vscode-notebook-cell:/d%3A/OneDrive%20-%20USTC/2023%20Fall/Computational%20Physics%20A%20USTC%202023/hw_answer/Lab/main.ipynb#X14sZmlsZQ%3D%3D?line=26'>27</a>\u001b[0m     grids \u001b[39m=\u001b[39m history[i,j]\n\u001b[1;32m---> <a href='vscode-notebook-cell:/d%3A/OneDrive%20-%20USTC/2023%20Fall/Computational%20Physics%20A%20USTC%202023/hw_answer/Lab/main.ipynb#X14sZmlsZQ%3D%3D?line=27'>28</a>\u001b[0m     correlations \u001b[39m=\u001b[39m [angle_correlation_function(N, grids, distance) \u001b[39mfor\u001b[39;00m distance \u001b[39min\u001b[39;00m distances]\n\u001b[0;32m     <a href='vscode-notebook-cell:/d%3A/OneDrive%20-%20USTC/2023%20Fall/Computational%20Physics%20A%20USTC%202023/hw_answer/Lab/main.ipynb#X14sZmlsZQ%3D%3D?line=28'>29</a>\u001b[0m     ful_correlations[i,j,\u001b[39m.\u001b[39m\u001b[39m.\u001b[39m\u001b[39m.\u001b[39m] \u001b[39m=\u001b[39m correlations\n",
      "\u001b[1;32md:\\OneDrive - USTC\\2023 Fall\\Computational Physics A USTC 2023\\hw_answer\\Lab\\main.ipynb Cell 8\u001b[0m line \u001b[0;36m2\n\u001b[0;32m     <a href='vscode-notebook-cell:/d%3A/OneDrive%20-%20USTC/2023%20Fall/Computational%20Physics%20A%20USTC%202023/hw_answer/Lab/main.ipynb#X14sZmlsZQ%3D%3D?line=25'>26</a>\u001b[0m \u001b[39mfor\u001b[39;00m j \u001b[39min\u001b[39;00m \u001b[39mrange\u001b[39m(\u001b[39mlen\u001b[39m(betas)):\n\u001b[0;32m     <a href='vscode-notebook-cell:/d%3A/OneDrive%20-%20USTC/2023%20Fall/Computational%20Physics%20A%20USTC%202023/hw_answer/Lab/main.ipynb#X14sZmlsZQ%3D%3D?line=26'>27</a>\u001b[0m     grids \u001b[39m=\u001b[39m history[i,j]\n\u001b[1;32m---> <a href='vscode-notebook-cell:/d%3A/OneDrive%20-%20USTC/2023%20Fall/Computational%20Physics%20A%20USTC%202023/hw_answer/Lab/main.ipynb#X14sZmlsZQ%3D%3D?line=27'>28</a>\u001b[0m     correlations \u001b[39m=\u001b[39m [angle_correlation_function(N, grids, distance) \u001b[39mfor\u001b[39;00m distance \u001b[39min\u001b[39;00m distances]\n\u001b[0;32m     <a href='vscode-notebook-cell:/d%3A/OneDrive%20-%20USTC/2023%20Fall/Computational%20Physics%20A%20USTC%202023/hw_answer/Lab/main.ipynb#X14sZmlsZQ%3D%3D?line=28'>29</a>\u001b[0m     ful_correlations[i,j,\u001b[39m.\u001b[39m\u001b[39m.\u001b[39m\u001b[39m.\u001b[39m] \u001b[39m=\u001b[39m correlations\n",
      "\u001b[1;32md:\\OneDrive - USTC\\2023 Fall\\Computational Physics A USTC 2023\\hw_answer\\Lab\\main.ipynb Cell 8\u001b[0m line \u001b[0;36m1\n\u001b[0;32m     <a href='vscode-notebook-cell:/d%3A/OneDrive%20-%20USTC/2023%20Fall/Computational%20Physics%20A%20USTC%202023/hw_answer/Lab/main.ipynb#X14sZmlsZQ%3D%3D?line=16'>17</a>\u001b[0m             \u001b[39mfor\u001b[39;00m (ni, nj) \u001b[39min\u001b[39;00m neighbors:\n\u001b[0;32m     <a href='vscode-notebook-cell:/d%3A/OneDrive%20-%20USTC/2023%20Fall/Computational%20Physics%20A%20USTC%202023/hw_answer/Lab/main.ipynb#X14sZmlsZQ%3D%3D?line=17'>18</a>\u001b[0m                 total_cos \u001b[39m+\u001b[39m\u001b[39m=\u001b[39m np\u001b[39m.\u001b[39mcos(grids[s, i, j] \u001b[39m-\u001b[39m grids[s, ni, nj])\n\u001b[1;32m---> <a href='vscode-notebook-cell:/d%3A/OneDrive%20-%20USTC/2023%20Fall/Computational%20Physics%20A%20USTC%202023/hw_answer/Lab/main.ipynb#X14sZmlsZQ%3D%3D?line=18'>19</a>\u001b[0m                 count \u001b[39m+\u001b[39m\u001b[39m=\u001b[39m \u001b[39m1\u001b[39m\n\u001b[0;32m     <a href='vscode-notebook-cell:/d%3A/OneDrive%20-%20USTC/2023%20Fall/Computational%20Physics%20A%20USTC%202023/hw_answer/Lab/main.ipynb#X14sZmlsZQ%3D%3D?line=20'>21</a>\u001b[0m \u001b[39mreturn\u001b[39;00m total_cos \u001b[39m/\u001b[39m count \u001b[39mif\u001b[39;00m count \u001b[39melse\u001b[39;00m \u001b[39m0\u001b[39m\n",
      "\u001b[1;31mKeyboardInterrupt\u001b[0m: "
     ]
    }
   ],
   "source": [
    "def angle_correlation_function(N, grids, distance):\n",
    "    total_cos = 0\n",
    "    count = 0\n",
    "\n",
    "    # Loop over the entire grid\n",
    "    for s in range(grids.shape[0]):\n",
    "        for i in range(N):\n",
    "            for j in range(N):\n",
    "                # Neighbors at distance 'distance'\n",
    "                neighbors = [\n",
    "                    ((i + distance) % N, j),  # right\n",
    "                    ((i - distance) % N, j),  # left\n",
    "                    (i, (j + distance) % N),  # up\n",
    "                    (i, (j - distance) % N)   # down\n",
    "                ]\n",
    "\n",
    "                for (ni, nj) in neighbors:\n",
    "                    total_cos += np.cos(grids[s, i, j] - grids[s, ni, nj])\n",
    "                    count += 1\n",
    "\n",
    "    return total_cos / count if count else 0\n",
    "\n",
    "ful_correlations = np.zeros((n, len(betas), N-1))\n",
    "distances = range(1, N)\n",
    "for i in range(n):\n",
    "    for j in range(len(betas)):\n",
    "        grids = history[i,j]\n",
    "        correlations = [angle_correlation_function(N, grids, distance) for distance in distances]\n",
    "        ful_correlations[i,j,...] = correlations\n"
   ]
  },
  {
   "cell_type": "code",
   "execution_count": null,
   "metadata": {},
   "outputs": [],
   "source": [
    "for k in range(len(betas)):\n",
    "    plt.plot(distance, ful_correlations[0,k])\n",
    "plt.xlabel('distance')\n",
    "plt.ylabel('Correlation')\n",
    "plt.title('Transistion')\n",
    "plt.grid(True)\n",
    "plt.show()"
   ]
  },
  {
   "cell_type": "markdown",
   "metadata": {},
   "source": []
  },
  {
   "cell_type": "code",
   "execution_count": null,
   "metadata": {},
   "outputs": [],
   "source": []
  },
  {
   "cell_type": "code",
   "execution_count": null,
   "metadata": {},
   "outputs": [],
   "source": [
    ", marker='o'\n",
    "序参数\n",
    "可视化\n",
    "不同的cooling rate  32-2048\n",
    "1.直接到T\n",
    "2.低温下cooling rate"
   ]
  }
 ],
 "metadata": {
  "kernelspec": {
   "display_name": "replicate",
   "language": "python",
   "name": "python3"
  },
  "language_info": {
   "codemirror_mode": {
    "name": "ipython",
    "version": 3
   },
   "file_extension": ".py",
   "mimetype": "text/x-python",
   "name": "python",
   "nbconvert_exporter": "python",
   "pygments_lexer": "ipython3",
   "version": "3.10.12"
  }
 },
 "nbformat": 4,
 "nbformat_minor": 2
}
