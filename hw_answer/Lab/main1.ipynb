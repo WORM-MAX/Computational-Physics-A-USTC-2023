{
 "cells": [
  {
   "cell_type": "code",
   "execution_count": 1,
   "metadata": {},
   "outputs": [],
   "source": [
    "import numpy as np\n",
    "import matplotlib.pyplot as plt\n",
    "import cv2\n",
    "import os"
   ]
  },
  {
   "cell_type": "code",
   "execution_count": 2,
   "metadata": {},
   "outputs": [],
   "source": [
    "def metropolis_step(N, grid, J, beta=1.0):\n",
    "    i, j = np.random.randint(0, N, 2)\n",
    "    current_angle = grid[i, j]\n",
    "    new_angle = 2*np.pi*np.random.rand()\n",
    "\n",
    "    # Calculate energy change\n",
    "    delta_E = 0\n",
    "    delta_E -= J[i,j,0]*np.cos(new_angle-grid[(i + 1) % N, j])-np.cos(current_angle-grid[(i + 1) % N, j])\n",
    "    delta_E -= J[i-1,j,0]*np.cos(new_angle-grid[(i - 1) % N, j])-np.cos(current_angle-grid[(i - 1) % N, j])\n",
    "    delta_E -= J[i,j,1]*np.cos(new_angle-grid[i, (j + 1) % N])-np.cos(current_angle-grid[i, (j + 1) % N])\n",
    "    delta_E -= J[i-1,j,1]*np.cos(new_angle-grid[i, (j - 1) % N])-np.cos(current_angle-grid[i, (j - 1) % N])\n",
    "\n",
    "    # Metropolis criterion\n",
    "    if delta_E < 0 or np.random.rand() < np.exp(-delta_E*beta):\n",
    "        grid[i, j] = new_angle\n",
    "\n",
    "    return grid\n"
   ]
  },
  {
   "cell_type": "code",
   "execution_count": 3,
   "metadata": {},
   "outputs": [],
   "source": [
    "def plot_grid_orientations(grid, step, beta, filename_pattern):\n",
    "    N = grid.shape[0]\n",
    "    X, Y = np.meshgrid(range(N), range(N))\n",
    "    U = np.cos(grid)\n",
    "    V = np.sin(grid)\n",
    "\n",
    "    plt.figure(figsize=(8, 8))\n",
    "    plt.quiver(X, Y, U, V, pivot='middle')\n",
    "    plt.title(f\"Temperature {1/beta} Step {step}\")\n",
    "    plt.savefig(filename_pattern.format(beta, step))  # Save the plot as an image\n",
    "    plt.close()  # Close the plot to free memory"
   ]
  },
  {
   "cell_type": "code",
   "execution_count": null,
   "metadata": {},
   "outputs": [],
   "source": []
  },
  {
   "cell_type": "code",
   "execution_count": 4,
   "metadata": {},
   "outputs": [],
   "source": [
    "# Modify your simulation loop to save images\n",
    "image_folder = 'simulation_frames1'\n",
    "os.makedirs(image_folder, exist_ok=True)\n",
    "filename_pattern = os.path.join(image_folder, 'frame_{:02f}_{:04d}.png')"
   ]
  },
  {
   "cell_type": "code",
   "execution_count": 27,
   "metadata": {},
   "outputs": [],
   "source": [
    "n = 5 #num of different J\n",
    "N = 32  # Grid size\n",
    "steps = 5000  # Number of simulation steps\n",
    "m = 100 #num of thermalization\n",
    "betas = [0.1, 10, 1000]\n",
    "history = np.zeros((n, len(betas), steps+1, N, N), dtype='float32')\n",
    "ods = np.zeros((n,len(betas), steps-m))\n",
    "some_interval = 10\n",
    "\n",
    "\n",
    "\n",
    "for k in range(n):\n",
    "    #Initialize spin orientation.\n",
    "    grid = 2*np.pi*np.random.rand(N, N)\n",
    "    \n",
    "    #Initialize spin-spin interaction coefficient.\n",
    "    random_array = np.random.rand(N, N, 2)\n",
    "    J = np.where(random_array < 0.5, -1, 1)\n",
    "\n",
    "    for l in range(len(betas)):\n",
    "        beta = betas[l]\n",
    "        for h in range(steps):\n",
    "            grid = metropolis_step(N, grid, J, beta)\n",
    "            history[k, l, h, ...] = grid\n",
    "            if h>m-1:\n",
    "                ods[k,l,h-m] = np.mean(np.cos(grid))\n",
    "\n",
    "            # Plotting at selected steps\n",
    "            if h % some_interval == 0 and k == 0:  # 'some_interval' is the frequency of steps at which you want to plot\n",
    "                plot_grid_orientations(grid, h, beta, filename_pattern)\n",
    "\n",
    "    if k==0:\n",
    "        break\n",
    "odt = np.mean(ods, axis=2)**2\n",
    "odt = np.mean(odt, axis=0)"
   ]
  },
  {
   "cell_type": "code",
   "execution_count": 28,
   "metadata": {},
   "outputs": [],
   "source": [
    "# After simulation, create a video\n",
    "video_name = 'simulation_video.mp4'\n",
    "images = [img for img in os.listdir(image_folder) if img.endswith(\".png\")]\n",
    "frame = cv2.imread(os.path.join(image_folder, images[0]))\n",
    "height, width, layers = frame.shape\n",
    "video = cv2.VideoWriter(video_name, cv2.VideoWriter_fourcc(*'mp4v'), 24, (width, height))\n",
    "\n",
    "for image in sorted(images):\n",
    "    video.write(cv2.imread(os.path.join(image_folder, image)))\n",
    "\n",
    "cv2.destroyAllWindows()\n",
    "video.release()"
   ]
  },
  {
   "cell_type": "code",
   "execution_count": null,
   "metadata": {},
   "outputs": [],
   "source": [
    "# Plotting the results\n",
    "#plt.figure(figsize=(10, 6))\n",
    "for i in range(3):\n",
    "    plt.plot(range(len(ods[0,i])), ods[0,i])\n",
    "plt.xlabel('Temperature')\n",
    "plt.ylabel('Spin-Spin Correlation')\n",
    "plt.title('Spin-Spin Correlation vs Temperature')\n",
    "plt.grid(True)\n",
    "plt.show()"
   ]
  },
  {
   "cell_type": "markdown",
   "metadata": {},
   "source": []
  },
  {
   "cell_type": "code",
   "execution_count": null,
   "metadata": {},
   "outputs": [],
   "source": [
    ", marker='o'\n",
    "序参数\n",
    "可视化\n",
    "不同的cooling rate  32-2048\n",
    "1.直接到T\n",
    "2.低温下cooling rate"
   ]
  }
 ],
 "metadata": {
  "kernelspec": {
   "display_name": "replicate",
   "language": "python",
   "name": "python3"
  },
  "language_info": {
   "codemirror_mode": {
    "name": "ipython",
    "version": 3
   },
   "file_extension": ".py",
   "mimetype": "text/x-python",
   "name": "python",
   "nbconvert_exporter": "python",
   "pygments_lexer": "ipython3",
   "version": "3.10.12"
  }
 },
 "nbformat": 4,
 "nbformat_minor": 2
}
